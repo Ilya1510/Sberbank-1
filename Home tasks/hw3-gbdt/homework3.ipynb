{
 "cells": [
  {
   "cell_type": "markdown",
   "metadata": {},
   "source": [
    "## Домашнее задание 3\n",
    "### Градиентный бустинг\n",
    "---\n"
   ]
  },
  {
   "cell_type": "markdown",
   "metadata": {},
   "source": [
    "В этом задании вам предлагается поработать с библиотекой градиентного бустинга CatBoost и применить ее к датасету adult с семинара"
   ]
  },
  {
   "cell_type": "markdown",
   "metadata": {},
   "source": [
    "Для начала поставьте пакет CatBoost (если у вас возникли с этим проблемы посетите https://tech.yandex.com/catboost/doc/dg/concepts/python-installation-docpage/)"
   ]
  },
  {
   "cell_type": "code",
   "execution_count": 2,
   "metadata": {},
   "outputs": [],
   "source": [
    "import numpy as np\n",
    "import pandas as pd\n",
    "from matplotlib import pyplot as plt\n",
    "%matplotlib inline"
   ]
  },
  {
   "cell_type": "code",
   "execution_count": null,
   "metadata": {},
   "outputs": [],
   "source": [
    "df = pd.read_csv('https://archive.ics.uci.edu/ml/machine-learning-databases/adult/adult.data',)\n",
    "# Назначаем имена колонок\n",
    "columns = ('age workclass fnlwgt education educ-num marital-status occupation relationship '\n",
    "           'race sex capital-gain capital-loss  hours-per-week native-country salary')\n",
    "\n",
    "numeric_indices = np.array([0, 2, 4, 10, 11, 12])\n",
    "categorical_indices = np.array([1, 3, 5, 6, 7, 8, 9, 13])\n",
    "\n",
    "df.columns = columns.split() #этот метод разделит датасет по колонкам как в массиве columns\n",
    "df = df.dropna()\n",
    "\n",
    "\n",
    "df_prc = df.copy()\n",
    "df_prc['salary'] = df['salary'].apply((lambda x: x==' >50K')) # Будем предсказывать 1(True), если зарплата больше 50K, 0(False) иначе\n"
   ]
  },
  {
   "cell_type": "code",
   "execution_count": null,
   "metadata": {},
   "outputs": [],
   "source": [
    "X = np.array(df_prc[df._get_numeric_data().columns])\n",
    "y = np.array(df_prc['salary'], dtype='int')"
   ]
  },
  {
   "cell_type": "markdown",
   "metadata": {},
   "source": [
    "Вам понадобится модуль CatBoostClassifier. Работать с ним можно так же как и с любым другим моделем из sklearn, однако для работы с категориальными признаками вам понадобится передать параметр cat_features=categorical_indices. \n",
    "\n",
    "Более подробно с примерами использования catboost можно ознакомится на https://github.com/catboost/tutorials/blob/master/python_tutorial.ipynb (если страница не показывает ноутбук нажмите Download, скачайте его и откройте у себя. Если вместо загрузки открывается страница с непонятным текстом, нажмите ctrl+s и сохраните файл в формате .ipynb)"
   ]
  },
  {
   "cell_type": "markdown",
   "metadata": {},
   "source": [
    "Если по ходу выполнения задания у вас возникли вопросы их можно присылать на ibrbulat@yandex.ru"
   ]
  },
  {
   "cell_type": "markdown",
   "metadata": {},
   "source": [
    "Разделите выборку на train и test в соотнощении 4:1 и постарайтесь добиться лучшего качества с помощью подбора параметров"
   ]
  },
  {
   "cell_type": "code",
   "execution_count": null,
   "metadata": {},
   "outputs": [],
   "source": []
  }
 ],
 "metadata": {
  "kernelspec": {
   "display_name": "Python 3",
   "language": "python",
   "name": "python3"
  },
  "language_info": {
   "codemirror_mode": {
    "name": "ipython",
    "version": 3
   },
   "file_extension": ".py",
   "mimetype": "text/x-python",
   "name": "python",
   "nbconvert_exporter": "python",
   "pygments_lexer": "ipython3",
   "version": "3.6.6"
  }
 },
 "nbformat": 4,
 "nbformat_minor": 2
}
